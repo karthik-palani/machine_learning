{
  "nbformat": 4,
  "nbformat_minor": 0,
  "metadata": {
    "colab": {
      "name": "R6_Internal_Lab_UpdatedTF2_Prices_Iris.ipynb",
      "version": "0.3.2",
      "provenance": [],
      "collapsed_sections": [],
      "toc_visible": true,
      "include_colab_link": true
    },
    "kernelspec": {
      "name": "python3",
      "display_name": "Python 3"
    },
    "accelerator": "GPU"
  },
  "cells": [
    {
      "cell_type": "markdown",
      "metadata": {
        "id": "view-in-github",
        "colab_type": "text"
      },
      "source": [
        "<a href=\"https://colab.research.google.com/github/karthik-palani/machine_learning/blob/master/R6_Internal_Lab_UpdatedTF2_Prices_Iris.ipynb\" target=\"_parent\"><img src=\"https://colab.research.google.com/assets/colab-badge.svg\" alt=\"Open In Colab\"/></a>"
      ]
    },
    {
      "metadata": {
        "colab_type": "text",
        "id": "84Q8JfvaeZZ6"
      },
      "cell_type": "markdown",
      "source": [
        "## Linear Classifier in TensorFlow \n",
        "Using Low Level API in Eager Execution mode"
      ]
    },
    {
      "metadata": {
        "colab_type": "text",
        "id": "sb7Epo0VOB58"
      },
      "cell_type": "markdown",
      "source": [
        "### Load tensorflow"
      ]
    },
    {
      "metadata": {
        "colab_type": "code",
        "id": "fHpCNRv1OB5-",
        "colab": {}
      },
      "cell_type": "code",
      "source": [
        "import tensorflow as tf"
      ],
      "execution_count": 0,
      "outputs": []
    },
    {
      "metadata": {
        "colab_type": "code",
        "id": "Mjtb-EMcm5K0",
        "colab": {}
      },
      "cell_type": "code",
      "source": [
        "#Enable Eager Execution if using tensflow version < 2.0\n",
        "#From tensorflow v2.0 onwards, Eager Execution will be enabled by default\n"
      ],
      "execution_count": 0,
      "outputs": []
    },
    {
      "metadata": {
        "id": "fVCn1UwPENho",
        "colab_type": "code",
        "outputId": "e4b9a005-64c8-4f4d-c575-450d22506e08",
        "colab": {
          "base_uri": "https://localhost:8080/",
          "height": 35
        }
      },
      "cell_type": "code",
      "source": [
        "tf.__version__"
      ],
      "execution_count": 2,
      "outputs": [
        {
          "output_type": "execute_result",
          "data": {
            "text/plain": [
              "'1.13.1'"
            ]
          },
          "metadata": {
            "tags": []
          },
          "execution_count": 2
        }
      ]
    },
    {
      "metadata": {
        "id": "PfXGLLGmEPVi",
        "colab_type": "code",
        "colab": {}
      },
      "cell_type": "code",
      "source": [
        "tf.enable_eager_execution()"
      ],
      "execution_count": 0,
      "outputs": []
    },
    {
      "metadata": {
        "colab_type": "text",
        "id": "DxJDmJqqOB6K"
      },
      "cell_type": "markdown",
      "source": [
        "### Collect Data"
      ]
    },
    {
      "metadata": {
        "colab_type": "code",
        "id": "FhllFLyKOB6N",
        "colab": {}
      },
      "cell_type": "code",
      "source": [
        "#from google.colab import drive\n",
        "#drive.mount('/gdrive')"
      ],
      "execution_count": 0,
      "outputs": []
    },
    {
      "metadata": {
        "colab_type": "code",
        "id": "KiObW4V4SIOz",
        "colab": {}
      },
      "cell_type": "code",
      "source": [
        "import pandas as pd\n",
        "import numpy as np"
      ],
      "execution_count": 0,
      "outputs": []
    },
    {
      "metadata": {
        "colab_type": "code",
        "id": "B4yQKMiJOB6R",
        "colab": {}
      },
      "cell_type": "code",
      "source": [
        "data = pd.read_csv('prices.csv')"
      ],
      "execution_count": 0,
      "outputs": []
    },
    {
      "metadata": {
        "id": "HPH1N3NnFvW_",
        "colab_type": "code",
        "outputId": "1d55d767-7cfa-4ee3-d0a7-61672f6380c0",
        "colab": {
          "base_uri": "https://localhost:8080/",
          "height": 35
        }
      },
      "cell_type": "code",
      "source": [
        "data.shape"
      ],
      "execution_count": 7,
      "outputs": [
        {
          "output_type": "execute_result",
          "data": {
            "text/plain": [
              "(851264, 7)"
            ]
          },
          "metadata": {
            "tags": []
          },
          "execution_count": 7
        }
      ]
    },
    {
      "metadata": {
        "colab_type": "text",
        "id": "fgkX6SEqOB6W"
      },
      "cell_type": "markdown",
      "source": [
        "### Check all columns in the dataset"
      ]
    },
    {
      "metadata": {
        "colab_type": "code",
        "id": "7K8pWsNQOB6X",
        "outputId": "756eb777-6818-4aff-879b-0b9b246214f6",
        "colab": {
          "base_uri": "https://localhost:8080/",
          "height": 35
        }
      },
      "cell_type": "code",
      "source": [
        "data.columns"
      ],
      "execution_count": 8,
      "outputs": [
        {
          "output_type": "execute_result",
          "data": {
            "text/plain": [
              "Index(['date', 'symbol', 'open', 'close', 'low', 'high', 'volume'], dtype='object')"
            ]
          },
          "metadata": {
            "tags": []
          },
          "execution_count": 8
        }
      ]
    },
    {
      "metadata": {
        "colab_type": "text",
        "id": "7dU6X7MpOB6c"
      },
      "cell_type": "markdown",
      "source": [
        "### Drop columns `date` and  `symbol`"
      ]
    },
    {
      "metadata": {
        "colab_type": "code",
        "id": "lh_6spSKOB6e",
        "colab": {}
      },
      "cell_type": "code",
      "source": [
        "data.drop(['date','symbol'],axis=1,inplace=True)"
      ],
      "execution_count": 0,
      "outputs": []
    },
    {
      "metadata": {
        "colab_type": "code",
        "id": "xlwbUgTwOB6i",
        "outputId": "9218f947-9e92-47e4-f892-351bc12c2aaa",
        "colab": {
          "base_uri": "https://localhost:8080/",
          "height": 198
        }
      },
      "cell_type": "code",
      "source": [
        "data.head()"
      ],
      "execution_count": 10,
      "outputs": [
        {
          "output_type": "execute_result",
          "data": {
            "text/html": [
              "<div>\n",
              "<style scoped>\n",
              "    .dataframe tbody tr th:only-of-type {\n",
              "        vertical-align: middle;\n",
              "    }\n",
              "\n",
              "    .dataframe tbody tr th {\n",
              "        vertical-align: top;\n",
              "    }\n",
              "\n",
              "    .dataframe thead th {\n",
              "        text-align: right;\n",
              "    }\n",
              "</style>\n",
              "<table border=\"1\" class=\"dataframe\">\n",
              "  <thead>\n",
              "    <tr style=\"text-align: right;\">\n",
              "      <th></th>\n",
              "      <th>open</th>\n",
              "      <th>close</th>\n",
              "      <th>low</th>\n",
              "      <th>high</th>\n",
              "      <th>volume</th>\n",
              "    </tr>\n",
              "  </thead>\n",
              "  <tbody>\n",
              "    <tr>\n",
              "      <th>0</th>\n",
              "      <td>123.430000</td>\n",
              "      <td>125.839996</td>\n",
              "      <td>122.309998</td>\n",
              "      <td>126.250000</td>\n",
              "      <td>2163600.0</td>\n",
              "    </tr>\n",
              "    <tr>\n",
              "      <th>1</th>\n",
              "      <td>125.239998</td>\n",
              "      <td>119.980003</td>\n",
              "      <td>119.940002</td>\n",
              "      <td>125.540001</td>\n",
              "      <td>2386400.0</td>\n",
              "    </tr>\n",
              "    <tr>\n",
              "      <th>2</th>\n",
              "      <td>116.379997</td>\n",
              "      <td>114.949997</td>\n",
              "      <td>114.930000</td>\n",
              "      <td>119.739998</td>\n",
              "      <td>2489500.0</td>\n",
              "    </tr>\n",
              "    <tr>\n",
              "      <th>3</th>\n",
              "      <td>115.480003</td>\n",
              "      <td>116.620003</td>\n",
              "      <td>113.500000</td>\n",
              "      <td>117.440002</td>\n",
              "      <td>2006300.0</td>\n",
              "    </tr>\n",
              "    <tr>\n",
              "      <th>4</th>\n",
              "      <td>117.010002</td>\n",
              "      <td>114.970001</td>\n",
              "      <td>114.089996</td>\n",
              "      <td>117.330002</td>\n",
              "      <td>1408600.0</td>\n",
              "    </tr>\n",
              "  </tbody>\n",
              "</table>\n",
              "</div>"
            ],
            "text/plain": [
              "         open       close         low        high     volume\n",
              "0  123.430000  125.839996  122.309998  126.250000  2163600.0\n",
              "1  125.239998  119.980003  119.940002  125.540001  2386400.0\n",
              "2  116.379997  114.949997  114.930000  119.739998  2489500.0\n",
              "3  115.480003  116.620003  113.500000  117.440002  2006300.0\n",
              "4  117.010002  114.970001  114.089996  117.330002  1408600.0"
            ]
          },
          "metadata": {
            "tags": []
          },
          "execution_count": 10
        }
      ]
    },
    {
      "metadata": {
        "colab_type": "text",
        "id": "3DBv3WWYOB6q"
      },
      "cell_type": "markdown",
      "source": [
        "### Consider only first 1000 rows in the dataset for building feature set and target set\n",
        "Target 'Volume' has very high values. Divide 'Volume' by 1000,000"
      ]
    },
    {
      "metadata": {
        "colab_type": "code",
        "id": "Z_hG9rGBOB6s",
        "colab": {
          "base_uri": "https://localhost:8080/",
          "height": 35
        },
        "outputId": "6f5e1036-8869-47b0-f337-4175274801c8"
      },
      "cell_type": "code",
      "source": [
        "data.iloc[:1000,:].shape"
      ],
      "execution_count": 11,
      "outputs": [
        {
          "output_type": "execute_result",
          "data": {
            "text/plain": [
              "(1000, 5)"
            ]
          },
          "metadata": {
            "tags": []
          },
          "execution_count": 11
        }
      ]
    },
    {
      "metadata": {
        "id": "MnSKsw1fIP8r",
        "colab_type": "code",
        "colab": {}
      },
      "cell_type": "code",
      "source": [
        "data=data.iloc[:1000,:]"
      ],
      "execution_count": 0,
      "outputs": []
    },
    {
      "metadata": {
        "id": "uy8V2uyTJIeB",
        "colab_type": "code",
        "colab": {}
      },
      "cell_type": "code",
      "source": [
        "data.loc[:,'volume']=data.loc[:,'volume']/1000000"
      ],
      "execution_count": 0,
      "outputs": []
    },
    {
      "metadata": {
        "id": "5h3j0MgaJVkZ",
        "colab_type": "code",
        "colab": {
          "base_uri": "https://localhost:8080/",
          "height": 108
        },
        "outputId": "00759704-0563-4ebb-f087-4eb4b80afb96"
      },
      "cell_type": "code",
      "source": [
        "data.head(2)"
      ],
      "execution_count": 14,
      "outputs": [
        {
          "output_type": "execute_result",
          "data": {
            "text/html": [
              "<div>\n",
              "<style scoped>\n",
              "    .dataframe tbody tr th:only-of-type {\n",
              "        vertical-align: middle;\n",
              "    }\n",
              "\n",
              "    .dataframe tbody tr th {\n",
              "        vertical-align: top;\n",
              "    }\n",
              "\n",
              "    .dataframe thead th {\n",
              "        text-align: right;\n",
              "    }\n",
              "</style>\n",
              "<table border=\"1\" class=\"dataframe\">\n",
              "  <thead>\n",
              "    <tr style=\"text-align: right;\">\n",
              "      <th></th>\n",
              "      <th>open</th>\n",
              "      <th>close</th>\n",
              "      <th>low</th>\n",
              "      <th>high</th>\n",
              "      <th>volume</th>\n",
              "    </tr>\n",
              "  </thead>\n",
              "  <tbody>\n",
              "    <tr>\n",
              "      <th>0</th>\n",
              "      <td>123.430000</td>\n",
              "      <td>125.839996</td>\n",
              "      <td>122.309998</td>\n",
              "      <td>126.250000</td>\n",
              "      <td>2.1636</td>\n",
              "    </tr>\n",
              "    <tr>\n",
              "      <th>1</th>\n",
              "      <td>125.239998</td>\n",
              "      <td>119.980003</td>\n",
              "      <td>119.940002</td>\n",
              "      <td>125.540001</td>\n",
              "      <td>2.3864</td>\n",
              "    </tr>\n",
              "  </tbody>\n",
              "</table>\n",
              "</div>"
            ],
            "text/plain": [
              "         open       close         low        high  volume\n",
              "0  123.430000  125.839996  122.309998  126.250000  2.1636\n",
              "1  125.239998  119.980003  119.940002  125.540001  2.3864"
            ]
          },
          "metadata": {
            "tags": []
          },
          "execution_count": 14
        }
      ]
    },
    {
      "metadata": {
        "id": "9Bscbu0RKEFW",
        "colab_type": "code",
        "colab": {}
      },
      "cell_type": "code",
      "source": [
        "feature=data.drop('volume',axis=1)\n",
        "target=data.pop('volume')"
      ],
      "execution_count": 0,
      "outputs": []
    },
    {
      "metadata": {
        "id": "ERAH35ZnJ5ni",
        "colab_type": "code",
        "colab": {
          "base_uri": "https://localhost:8080/",
          "height": 108
        },
        "outputId": "a4df0612-d875-449e-f37f-ebc44ca7931a"
      },
      "cell_type": "code",
      "source": [
        "feature.head(2)"
      ],
      "execution_count": 16,
      "outputs": [
        {
          "output_type": "execute_result",
          "data": {
            "text/html": [
              "<div>\n",
              "<style scoped>\n",
              "    .dataframe tbody tr th:only-of-type {\n",
              "        vertical-align: middle;\n",
              "    }\n",
              "\n",
              "    .dataframe tbody tr th {\n",
              "        vertical-align: top;\n",
              "    }\n",
              "\n",
              "    .dataframe thead th {\n",
              "        text-align: right;\n",
              "    }\n",
              "</style>\n",
              "<table border=\"1\" class=\"dataframe\">\n",
              "  <thead>\n",
              "    <tr style=\"text-align: right;\">\n",
              "      <th></th>\n",
              "      <th>open</th>\n",
              "      <th>close</th>\n",
              "      <th>low</th>\n",
              "      <th>high</th>\n",
              "    </tr>\n",
              "  </thead>\n",
              "  <tbody>\n",
              "    <tr>\n",
              "      <th>0</th>\n",
              "      <td>123.430000</td>\n",
              "      <td>125.839996</td>\n",
              "      <td>122.309998</td>\n",
              "      <td>126.250000</td>\n",
              "    </tr>\n",
              "    <tr>\n",
              "      <th>1</th>\n",
              "      <td>125.239998</td>\n",
              "      <td>119.980003</td>\n",
              "      <td>119.940002</td>\n",
              "      <td>125.540001</td>\n",
              "    </tr>\n",
              "  </tbody>\n",
              "</table>\n",
              "</div>"
            ],
            "text/plain": [
              "         open       close         low        high\n",
              "0  123.430000  125.839996  122.309998  126.250000\n",
              "1  125.239998  119.980003  119.940002  125.540001"
            ]
          },
          "metadata": {
            "tags": []
          },
          "execution_count": 16
        }
      ]
    },
    {
      "metadata": {
        "id": "d1ic54oAK7r6",
        "colab_type": "code",
        "colab": {
          "base_uri": "https://localhost:8080/",
          "height": 72
        },
        "outputId": "2148f005-a700-4327-e23c-d5a839ae1a04"
      },
      "cell_type": "code",
      "source": [
        "target.head(2)"
      ],
      "execution_count": 17,
      "outputs": [
        {
          "output_type": "execute_result",
          "data": {
            "text/plain": [
              "0    2.1636\n",
              "1    2.3864\n",
              "Name: volume, dtype: float64"
            ]
          },
          "metadata": {
            "tags": []
          },
          "execution_count": 17
        }
      ]
    },
    {
      "metadata": {
        "colab_type": "text",
        "id": "M3UaApqYOB6x"
      },
      "cell_type": "markdown",
      "source": [
        "### Divide the data into train and test sets"
      ]
    },
    {
      "metadata": {
        "colab_type": "code",
        "id": "4LE4U8lTdQJq",
        "colab": {}
      },
      "cell_type": "code",
      "source": [
        "from sklearn.model_selection import train_test_split"
      ],
      "execution_count": 0,
      "outputs": []
    },
    {
      "metadata": {
        "id": "Z9Mr2G_RJ4XV",
        "colab_type": "code",
        "colab": {}
      },
      "cell_type": "code",
      "source": [
        "feature_train, feature_test, target_train, target_test = train_test_split(feature, target, test_size=0.30, random_state=1)"
      ],
      "execution_count": 0,
      "outputs": []
    },
    {
      "metadata": {
        "colab_type": "text",
        "id": "oYK-aUuLbrz2"
      },
      "cell_type": "markdown",
      "source": [
        "#### Convert Training and Test Data to numpy float32 arrays\n"
      ]
    },
    {
      "metadata": {
        "colab_type": "code",
        "id": "Ao-S0tQGcncz",
        "colab": {}
      },
      "cell_type": "code",
      "source": [
        "feature_train = feature_train.astype('float32')\n",
        "feature_test = feature_test.astype('float32')\n",
        "target_train = target_train.astype('float32')\n",
        "target_test = target_test.astype('float32')"
      ],
      "execution_count": 0,
      "outputs": []
    },
    {
      "metadata": {
        "colab_type": "text",
        "id": "im1ZegbDdKgv"
      },
      "cell_type": "markdown",
      "source": [
        "### Normalize the data\n",
        "You can use Normalizer from sklearn.preprocessing"
      ]
    },
    {
      "metadata": {
        "colab_type": "code",
        "id": "2EkKAy7fOB6y",
        "colab": {}
      },
      "cell_type": "code",
      "source": [
        "from sklearn.preprocessing import Normalizer"
      ],
      "execution_count": 0,
      "outputs": []
    },
    {
      "metadata": {
        "id": "lCHnLIboMcXC",
        "colab_type": "code",
        "colab": {}
      },
      "cell_type": "code",
      "source": [
        "transform=Normalizer()"
      ],
      "execution_count": 0,
      "outputs": []
    },
    {
      "metadata": {
        "id": "rgUsmzrIMS8Z",
        "colab_type": "code",
        "colab": {}
      },
      "cell_type": "code",
      "source": [
        "feature_train=transform.fit_transform(feature_train)"
      ],
      "execution_count": 0,
      "outputs": []
    },
    {
      "metadata": {
        "id": "yusV6RaFMogc",
        "colab_type": "code",
        "colab": {
          "base_uri": "https://localhost:8080/",
          "height": 35
        },
        "outputId": "fbcd2591-630b-4c25-cbc5-e89d390abbc2"
      },
      "cell_type": "code",
      "source": [
        "feature_train.shape"
      ],
      "execution_count": 24,
      "outputs": [
        {
          "output_type": "execute_result",
          "data": {
            "text/plain": [
              "(700, 4)"
            ]
          },
          "metadata": {
            "tags": []
          },
          "execution_count": 24
        }
      ]
    },
    {
      "metadata": {
        "id": "1Fdh6-F7Z0I7",
        "colab_type": "code",
        "colab": {}
      },
      "cell_type": "code",
      "source": [
        "target_train=np.array([target_train]).transpose()"
      ],
      "execution_count": 0,
      "outputs": []
    },
    {
      "metadata": {
        "id": "Yj5Kd6utaJqo",
        "colab_type": "code",
        "colab": {
          "base_uri": "https://localhost:8080/",
          "height": 35
        },
        "outputId": "edf93d2a-0074-407b-ef7d-cff1f69c00ee"
      },
      "cell_type": "code",
      "source": [
        "target_train.shape"
      ],
      "execution_count": 26,
      "outputs": [
        {
          "output_type": "execute_result",
          "data": {
            "text/plain": [
              "(700, 1)"
            ]
          },
          "metadata": {
            "tags": []
          },
          "execution_count": 26
        }
      ]
    },
    {
      "metadata": {
        "colab_type": "text",
        "id": "v6vE4eYCOB62"
      },
      "cell_type": "markdown",
      "source": [
        "## Building the Model in tensorflow"
      ]
    },
    {
      "metadata": {
        "colab_type": "text",
        "id": "297_qja4OB7A"
      },
      "cell_type": "markdown",
      "source": [
        "1.Define Weights and Bias, use tf.zeros to initialize weights and Bias"
      ]
    },
    {
      "metadata": {
        "colab_type": "code",
        "id": "L205qPeQOB7B",
        "colab": {}
      },
      "cell_type": "code",
      "source": [
        "w = tf.zeros(shape=(4,1))\n",
        "b = tf.zeros(shape=(1))"
      ],
      "execution_count": 0,
      "outputs": []
    },
    {
      "metadata": {
        "colab_type": "text",
        "id": "HgtWA-UIOB7F"
      },
      "cell_type": "markdown",
      "source": [
        "2.Define a function to calculate prediction"
      ]
    },
    {
      "metadata": {
        "colab_type": "code",
        "id": "JveGlx25OB7H",
        "colab": {}
      },
      "cell_type": "code",
      "source": [
        "def prediction(x, w, b):\n",
        "    \n",
        "    xw_matmul = tf.matmul(x, w)\n",
        "    y = tf.add(xw_matmul, b)\n",
        "    \n",
        "    return y"
      ],
      "execution_count": 0,
      "outputs": []
    },
    {
      "metadata": {
        "colab_type": "text",
        "id": "TL1hIwf_OB7M"
      },
      "cell_type": "markdown",
      "source": [
        "3.Loss (Cost) Function [Mean square error]"
      ]
    },
    {
      "metadata": {
        "colab_type": "code",
        "id": "8VSWPiGXOB7P",
        "colab": {}
      },
      "cell_type": "code",
      "source": [
        "def loss(y_actual, y_predicted):\n",
        "    \n",
        "    diff = y_actual - y_predicted\n",
        "    sqr = diff*diff\n",
        "    avg = tf.reduce_mean(sqr)\n",
        "    \n",
        "    return avg"
      ],
      "execution_count": 0,
      "outputs": []
    },
    {
      "metadata": {
        "colab_type": "text",
        "id": "jzG85FUlOB7U"
      },
      "cell_type": "markdown",
      "source": [
        "4.Function to train the Model\n",
        "\n",
        "1.   Record all the mathematical steps to calculate Loss\n",
        "2.   Calculate Gradients of Loss w.r.t weights and bias\n",
        "3.   Update Weights and Bias based on gradients and learning rate to minimize loss"
      ]
    },
    {
      "metadata": {
        "colab_type": "code",
        "id": "cj802w-3OB7X",
        "colab": {}
      },
      "cell_type": "code",
      "source": [
        "def train(x, y_actual, w, b, learning_rate=0.01):\n",
        "    \n",
        "    #Record mathematical operations on 'tape' to calculate loss\n",
        "    with tf.GradientTape() as t:\n",
        "        \n",
        "        t.watch([w,b])\n",
        "        \n",
        "        current_prediction = prediction(x, w, b)\n",
        "        current_loss = loss(y_actual, current_prediction)\n",
        "    \n",
        "    #Calculate Gradients for Loss with respect to Weights and Bias\n",
        "    dw, db = t.gradient(current_loss,[w, b])\n",
        "    \n",
        "    #Update Weights and Bias\n",
        "    w = w - learning_rate*dw\n",
        "    b = b - learning_rate*db\n",
        "    \n",
        "    return w, b"
      ],
      "execution_count": 0,
      "outputs": []
    },
    {
      "metadata": {
        "colab_type": "text",
        "id": "xSypb_u8OB7e"
      },
      "cell_type": "markdown",
      "source": [
        "## Train the model for 100 epochs \n",
        "1. Observe the training loss at every iteration\n",
        "2. Observe Train loss at every 5th iteration"
      ]
    },
    {
      "metadata": {
        "id": "9VXWU3yAVYFm",
        "colab_type": "code",
        "colab": {
          "base_uri": "https://localhost:8080/",
          "height": 35
        },
        "outputId": "9e05fcb0-1877-4009-ea0b-0d38507e3a86"
      },
      "cell_type": "code",
      "source": [
        "loss(target_train, prediction(feature_train, w, b))"
      ],
      "execution_count": 31,
      "outputs": [
        {
          "output_type": "execute_result",
          "data": {
            "text/plain": [
              "<tf.Tensor: id=13, shape=(), dtype=float32, numpy=225.87958>"
            ]
          },
          "metadata": {
            "tags": []
          },
          "execution_count": 31
        }
      ]
    },
    {
      "metadata": {
        "colab_type": "code",
        "id": "DVvgj7eQOB7f",
        "colab": {
          "base_uri": "https://localhost:8080/",
          "height": 1835
        },
        "outputId": "c3be2540-5788-413b-8053-5d170e93d21c"
      },
      "cell_type": "code",
      "source": [
        "for i in range(100):\n",
        "    \n",
        "    w, b = train(feature_train, target_train, w, b)\n",
        "    print('Current Loss on iteration', i, loss(target_train, prediction(feature_train, w, b)).numpy())"
      ],
      "execution_count": 32,
      "outputs": [
        {
          "output_type": "stream",
          "text": [
            "Current Loss on iteration 0 223.49039\n",
            "Current Loss on iteration 1 221.2885\n",
            "Current Loss on iteration 2 219.2592\n",
            "Current Loss on iteration 3 217.38904\n",
            "Current Loss on iteration 4 215.66547\n",
            "Current Loss on iteration 5 214.07703\n",
            "Current Loss on iteration 6 212.61313\n",
            "Current Loss on iteration 7 211.26398\n",
            "Current Loss on iteration 8 210.0206\n",
            "Current Loss on iteration 9 208.8747\n",
            "Current Loss on iteration 10 207.81862\n",
            "Current Loss on iteration 11 206.84535\n",
            "Current Loss on iteration 12 205.9484\n",
            "Current Loss on iteration 13 205.12172\n",
            "Current Loss on iteration 14 204.3599\n",
            "Current Loss on iteration 15 203.65776\n",
            "Current Loss on iteration 16 203.01071\n",
            "Current Loss on iteration 17 202.41434\n",
            "Current Loss on iteration 18 201.86472\n",
            "Current Loss on iteration 19 201.35822\n",
            "Current Loss on iteration 20 200.89143\n",
            "Current Loss on iteration 21 200.46123\n",
            "Current Loss on iteration 22 200.06473\n",
            "Current Loss on iteration 23 199.69936\n",
            "Current Loss on iteration 24 199.36256\n",
            "Current Loss on iteration 25 199.05223\n",
            "Current Loss on iteration 26 198.76619\n",
            "Current Loss on iteration 27 198.5026\n",
            "Current Loss on iteration 28 198.25961\n",
            "Current Loss on iteration 29 198.03575\n",
            "Current Loss on iteration 30 197.82942\n",
            "Current Loss on iteration 31 197.63924\n",
            "Current Loss on iteration 32 197.46397\n",
            "Current Loss on iteration 33 197.30246\n",
            "Current Loss on iteration 34 197.1536\n",
            "Current Loss on iteration 35 197.0164\n",
            "Current Loss on iteration 36 196.89\n",
            "Current Loss on iteration 37 196.77345\n",
            "Current Loss on iteration 38 196.66605\n",
            "Current Loss on iteration 39 196.56705\n",
            "Current Loss on iteration 40 196.47585\n",
            "Current Loss on iteration 41 196.39178\n",
            "Current Loss on iteration 42 196.31433\n",
            "Current Loss on iteration 43 196.2429\n",
            "Current Loss on iteration 44 196.1771\n",
            "Current Loss on iteration 45 196.11646\n",
            "Current Loss on iteration 46 196.06056\n",
            "Current Loss on iteration 47 196.00902\n",
            "Current Loss on iteration 48 195.96153\n",
            "Current Loss on iteration 49 195.91779\n",
            "Current Loss on iteration 50 195.87746\n",
            "Current Loss on iteration 51 195.84029\n",
            "Current Loss on iteration 52 195.80603\n",
            "Current Loss on iteration 53 195.77446\n",
            "Current Loss on iteration 54 195.74536\n",
            "Current Loss on iteration 55 195.71855\n",
            "Current Loss on iteration 56 195.69383\n",
            "Current Loss on iteration 57 195.67105\n",
            "Current Loss on iteration 58 195.65004\n",
            "Current Loss on iteration 59 195.63069\n",
            "Current Loss on iteration 60 195.61285\n",
            "Current Loss on iteration 61 195.5964\n",
            "Current Loss on iteration 62 195.58125\n",
            "Current Loss on iteration 63 195.5673\n",
            "Current Loss on iteration 64 195.55441\n",
            "Current Loss on iteration 65 195.54257\n",
            "Current Loss on iteration 66 195.53163\n",
            "Current Loss on iteration 67 195.52156\n",
            "Current Loss on iteration 68 195.51224\n",
            "Current Loss on iteration 69 195.50368\n",
            "Current Loss on iteration 70 195.4958\n",
            "Current Loss on iteration 71 195.48851\n",
            "Current Loss on iteration 72 195.48181\n",
            "Current Loss on iteration 73 195.47565\n",
            "Current Loss on iteration 74 195.46994\n",
            "Current Loss on iteration 75 195.46466\n",
            "Current Loss on iteration 76 195.45984\n",
            "Current Loss on iteration 77 195.45534\n",
            "Current Loss on iteration 78 195.45123\n",
            "Current Loss on iteration 79 195.44745\n",
            "Current Loss on iteration 80 195.44395\n",
            "Current Loss on iteration 81 195.44072\n",
            "Current Loss on iteration 82 195.43774\n",
            "Current Loss on iteration 83 195.435\n",
            "Current Loss on iteration 84 195.43248\n",
            "Current Loss on iteration 85 195.43016\n",
            "Current Loss on iteration 86 195.42796\n",
            "Current Loss on iteration 87 195.42601\n",
            "Current Loss on iteration 88 195.42418\n",
            "Current Loss on iteration 89 195.42247\n",
            "Current Loss on iteration 90 195.42094\n",
            "Current Loss on iteration 91 195.41948\n",
            "Current Loss on iteration 92 195.41817\n",
            "Current Loss on iteration 93 195.41695\n",
            "Current Loss on iteration 94 195.4158\n",
            "Current Loss on iteration 95 195.41478\n",
            "Current Loss on iteration 96 195.41379\n",
            "Current Loss on iteration 97 195.4129\n",
            "Current Loss on iteration 98 195.4121\n",
            "Current Loss on iteration 99 195.41135\n"
          ],
          "name": "stdout"
        }
      ]
    },
    {
      "metadata": {
        "id": "bARYnvmwb6RQ",
        "colab_type": "code",
        "colab": {
          "base_uri": "https://localhost:8080/",
          "height": 381
        },
        "outputId": "2bf434c6-f258-44f6-e03f-fee4dc2de9c0"
      },
      "cell_type": "code",
      "source": [
        "for i in range(100):\n",
        "    \n",
        "    w, b = train(feature_train, target_train, w, b)\n",
        "    a=np.mod(i,5)\n",
        "    if a == 0:\n",
        "      print('Current Loss on iteration', i, loss(target_train, prediction(feature_train, w, b)).numpy()) "
      ],
      "execution_count": 33,
      "outputs": [
        {
          "output_type": "stream",
          "text": [
            "Current Loss on iteration 0 195.41064\n",
            "Current Loss on iteration 5 195.40785\n",
            "Current Loss on iteration 10 195.40598\n",
            "Current Loss on iteration 15 195.40471\n",
            "Current Loss on iteration 20 195.40382\n",
            "Current Loss on iteration 25 195.40321\n",
            "Current Loss on iteration 30 195.40274\n",
            "Current Loss on iteration 35 195.40245\n",
            "Current Loss on iteration 40 195.40219\n",
            "Current Loss on iteration 45 195.40201\n",
            "Current Loss on iteration 50 195.40186\n",
            "Current Loss on iteration 55 195.4017\n",
            "Current Loss on iteration 60 195.40158\n",
            "Current Loss on iteration 65 195.40144\n",
            "Current Loss on iteration 70 195.40134\n",
            "Current Loss on iteration 75 195.40125\n",
            "Current Loss on iteration 80 195.40114\n",
            "Current Loss on iteration 85 195.40103\n",
            "Current Loss on iteration 90 195.40094\n",
            "Current Loss on iteration 95 195.40085\n"
          ],
          "name": "stdout"
        }
      ]
    },
    {
      "metadata": {
        "colab_type": "text",
        "id": "DOL2ncA1OB7q"
      },
      "cell_type": "markdown",
      "source": [
        "### Get the shapes and values of W and b"
      ]
    },
    {
      "metadata": {
        "id": "CGR8kS0AdedD",
        "colab_type": "code",
        "colab": {
          "base_uri": "https://localhost:8080/",
          "height": 217
        },
        "outputId": "59ae2adc-edb8-42aa-bc74-142ee24aeda1"
      },
      "cell_type": "code",
      "source": [
        "print('Weights:\\n', w.numpy())\n",
        "print('Shape of Weights:\\n', w.shape)\n",
        "print('Bias:\\n',b.numpy())\n",
        "print('Shape of Bias:\\n', b.shape)"
      ],
      "execution_count": 34,
      "outputs": [
        {
          "output_type": "stream",
          "text": [
            "Weights:\n",
            " [[1.325594 ]\n",
            " [1.4239926]\n",
            " [1.3286834]\n",
            " [1.4386029]]\n",
            "Shape of Weights:\n",
            " (4, 1)\n",
            "Bias:\n",
            " [2.7598708]\n",
            "Shape of Bias:\n",
            " (1,)\n"
          ],
          "name": "stdout"
        }
      ]
    },
    {
      "metadata": {
        "colab_type": "text",
        "id": "ERq9GOKKciho"
      },
      "cell_type": "markdown",
      "source": [
        "### Model Prediction on 1st Examples in Test Dataset"
      ]
    },
    {
      "metadata": {
        "colab_type": "code",
        "id": "gKGvUWahcihp",
        "colab": {}
      },
      "cell_type": "code",
      "source": [
        "feature_test=transform.fit_transform(feature_test)\n"
      ],
      "execution_count": 0,
      "outputs": []
    },
    {
      "metadata": {
        "id": "vXloAKky0H5i",
        "colab_type": "code",
        "colab": {
          "base_uri": "https://localhost:8080/",
          "height": 35
        },
        "outputId": "cb75e0b4-2002-4dea-94c1-f3addbbf51dd"
      },
      "cell_type": "code",
      "source": [
        "prediction([feature_test[0]], w, b)"
      ],
      "execution_count": 36,
      "outputs": [
        {
          "output_type": "execute_result",
          "data": {
            "text/plain": [
              "<tf.Tensor: id=8100, shape=(1, 1), dtype=float32, numpy=array([[5.518816]], dtype=float32)>"
            ]
          },
          "metadata": {
            "tags": []
          },
          "execution_count": 36
        }
      ]
    },
    {
      "metadata": {
        "id": "f11ekG0Cvn4a",
        "colab_type": "code",
        "colab": {}
      },
      "cell_type": "code",
      "source": [
        "pred=prediction([feature_test[0]], w, b)"
      ],
      "execution_count": 0,
      "outputs": []
    },
    {
      "metadata": {
        "id": "chBINgprzGDq",
        "colab_type": "code",
        "colab": {
          "base_uri": "https://localhost:8080/",
          "height": 35
        },
        "outputId": "3608333d-318a-4248-e1db-23db72ca8642"
      },
      "cell_type": "code",
      "source": [
        "print(\"This predicted value of %s is \" % feature_test[0],  pred)"
      ],
      "execution_count": 38,
      "outputs": [
        {
          "output_type": "stream",
          "text": [
            "This predicted value of [0.4995751  0.49997294 0.495142   0.50525856] is  tf.Tensor([[5.518816]], shape=(1, 1), dtype=float32)\n"
          ],
          "name": "stdout"
        }
      ]
    },
    {
      "metadata": {
        "colab_type": "text",
        "id": "YJRBuqXhOB7_"
      },
      "cell_type": "markdown",
      "source": [
        "## Classification using tf.Keras\n",
        "\n",
        "In this exercise, we will build a Deep Neural Network using tf.Keras. We will use Iris Dataset for this exercise."
      ]
    },
    {
      "metadata": {
        "colab_type": "text",
        "id": "O0g6lorycihf"
      },
      "cell_type": "markdown",
      "source": [
        "### Load the given Iris data using pandas (Iris.csv)"
      ]
    },
    {
      "metadata": {
        "colab_type": "code",
        "id": "6xFvb5sRcihg",
        "colab": {}
      },
      "cell_type": "code",
      "source": [
        "iris=pd.read_csv('Iris.csv')"
      ],
      "execution_count": 0,
      "outputs": []
    },
    {
      "metadata": {
        "id": "LJs14KucYHXm",
        "colab_type": "code",
        "colab": {
          "base_uri": "https://localhost:8080/",
          "height": 108
        },
        "outputId": "896914b7-1651-4b3c-ea5d-60a500657407"
      },
      "cell_type": "code",
      "source": [
        "iris.head(2)"
      ],
      "execution_count": 40,
      "outputs": [
        {
          "output_type": "execute_result",
          "data": {
            "text/html": [
              "<div>\n",
              "<style scoped>\n",
              "    .dataframe tbody tr th:only-of-type {\n",
              "        vertical-align: middle;\n",
              "    }\n",
              "\n",
              "    .dataframe tbody tr th {\n",
              "        vertical-align: top;\n",
              "    }\n",
              "\n",
              "    .dataframe thead th {\n",
              "        text-align: right;\n",
              "    }\n",
              "</style>\n",
              "<table border=\"1\" class=\"dataframe\">\n",
              "  <thead>\n",
              "    <tr style=\"text-align: right;\">\n",
              "      <th></th>\n",
              "      <th>Id</th>\n",
              "      <th>SepalLengthCm</th>\n",
              "      <th>SepalWidthCm</th>\n",
              "      <th>PetalLengthCm</th>\n",
              "      <th>PetalWidthCm</th>\n",
              "      <th>Species</th>\n",
              "    </tr>\n",
              "  </thead>\n",
              "  <tbody>\n",
              "    <tr>\n",
              "      <th>0</th>\n",
              "      <td>1</td>\n",
              "      <td>5.1</td>\n",
              "      <td>3.5</td>\n",
              "      <td>1.4</td>\n",
              "      <td>0.2</td>\n",
              "      <td>Iris-setosa</td>\n",
              "    </tr>\n",
              "    <tr>\n",
              "      <th>1</th>\n",
              "      <td>2</td>\n",
              "      <td>4.9</td>\n",
              "      <td>3.0</td>\n",
              "      <td>1.4</td>\n",
              "      <td>0.2</td>\n",
              "      <td>Iris-setosa</td>\n",
              "    </tr>\n",
              "  </tbody>\n",
              "</table>\n",
              "</div>"
            ],
            "text/plain": [
              "   Id  SepalLengthCm  SepalWidthCm  PetalLengthCm  PetalWidthCm      Species\n",
              "0   1            5.1           3.5            1.4           0.2  Iris-setosa\n",
              "1   2            4.9           3.0            1.4           0.2  Iris-setosa"
            ]
          },
          "metadata": {
            "tags": []
          },
          "execution_count": 40
        }
      ]
    },
    {
      "metadata": {
        "colab_type": "text",
        "id": "SAB--Qdwcihm"
      },
      "cell_type": "markdown",
      "source": [
        "### Target set has different categories. So, Label encode them. And convert into one-hot vectors using get_dummies in pandas."
      ]
    },
    {
      "metadata": {
        "colab_type": "code",
        "id": "IJr5dYnocihm",
        "colab": {}
      },
      "cell_type": "code",
      "source": [
        "iris=pd.get_dummies(iris,columns=['Species'])"
      ],
      "execution_count": 0,
      "outputs": []
    },
    {
      "metadata": {
        "id": "MLAkiZecYb3n",
        "colab_type": "code",
        "colab": {
          "base_uri": "https://localhost:8080/",
          "height": 125
        },
        "outputId": "bee62ae9-fe20-4bec-d9d5-dfb87d12dd24"
      },
      "cell_type": "code",
      "source": [
        "iris.head(2)"
      ],
      "execution_count": 42,
      "outputs": [
        {
          "output_type": "execute_result",
          "data": {
            "text/html": [
              "<div>\n",
              "<style scoped>\n",
              "    .dataframe tbody tr th:only-of-type {\n",
              "        vertical-align: middle;\n",
              "    }\n",
              "\n",
              "    .dataframe tbody tr th {\n",
              "        vertical-align: top;\n",
              "    }\n",
              "\n",
              "    .dataframe thead th {\n",
              "        text-align: right;\n",
              "    }\n",
              "</style>\n",
              "<table border=\"1\" class=\"dataframe\">\n",
              "  <thead>\n",
              "    <tr style=\"text-align: right;\">\n",
              "      <th></th>\n",
              "      <th>Id</th>\n",
              "      <th>SepalLengthCm</th>\n",
              "      <th>SepalWidthCm</th>\n",
              "      <th>PetalLengthCm</th>\n",
              "      <th>PetalWidthCm</th>\n",
              "      <th>Species_Iris-setosa</th>\n",
              "      <th>Species_Iris-versicolor</th>\n",
              "      <th>Species_Iris-virginica</th>\n",
              "    </tr>\n",
              "  </thead>\n",
              "  <tbody>\n",
              "    <tr>\n",
              "      <th>0</th>\n",
              "      <td>1</td>\n",
              "      <td>5.1</td>\n",
              "      <td>3.5</td>\n",
              "      <td>1.4</td>\n",
              "      <td>0.2</td>\n",
              "      <td>1</td>\n",
              "      <td>0</td>\n",
              "      <td>0</td>\n",
              "    </tr>\n",
              "    <tr>\n",
              "      <th>1</th>\n",
              "      <td>2</td>\n",
              "      <td>4.9</td>\n",
              "      <td>3.0</td>\n",
              "      <td>1.4</td>\n",
              "      <td>0.2</td>\n",
              "      <td>1</td>\n",
              "      <td>0</td>\n",
              "      <td>0</td>\n",
              "    </tr>\n",
              "  </tbody>\n",
              "</table>\n",
              "</div>"
            ],
            "text/plain": [
              "   Id  SepalLengthCm  SepalWidthCm  PetalLengthCm  PetalWidthCm  \\\n",
              "0   1            5.1           3.5            1.4           0.2   \n",
              "1   2            4.9           3.0            1.4           0.2   \n",
              "\n",
              "   Species_Iris-setosa  Species_Iris-versicolor  Species_Iris-virginica  \n",
              "0                    1                        0                       0  \n",
              "1                    1                        0                       0  "
            ]
          },
          "metadata": {
            "tags": []
          },
          "execution_count": 42
        }
      ]
    },
    {
      "metadata": {
        "colab_type": "text",
        "id": "D95nY5ILcihj"
      },
      "cell_type": "markdown",
      "source": [
        "### Splitting the data into feature set and target set"
      ]
    },
    {
      "metadata": {
        "colab_type": "code",
        "id": "RyMQoLMucihj",
        "colab": {}
      },
      "cell_type": "code",
      "source": [
        "x=iris.iloc[:,1:5]\n",
        "y=iris.iloc[:,5:8]"
      ],
      "execution_count": 0,
      "outputs": []
    },
    {
      "metadata": {
        "id": "br4H3iuHn0pK",
        "colab_type": "code",
        "colab": {}
      },
      "cell_type": "code",
      "source": [
        "y.reset_index(drop=True, inplace=True)"
      ],
      "execution_count": 0,
      "outputs": []
    },
    {
      "metadata": {
        "id": "CMSmVZiriiiT",
        "colab_type": "code",
        "colab": {}
      },
      "cell_type": "code",
      "source": [
        "train_x, test_x, train_y, test_y = train_test_split(x, y, test_size=0.20,random_state=1)"
      ],
      "execution_count": 0,
      "outputs": []
    },
    {
      "metadata": {
        "colab_type": "text",
        "id": "b22qpC5xcihr"
      },
      "cell_type": "markdown",
      "source": [
        "###  Building Model in tf.keras\n",
        "\n",
        "Build a Linear Classifier model  <br>\n",
        "1.  Use Dense Layer  with input shape of 4 (according to the feature set) and number of outputs set to 3<br> \n",
        "2. Apply Softmax on Dense Layer outputs <br>\n",
        "3. Use SGD as Optimizer\n",
        "4. Use categorical_crossentropy as loss function "
      ]
    },
    {
      "metadata": {
        "colab_type": "text",
        "id": "T5FdzqIKcihw"
      },
      "cell_type": "markdown",
      "source": [
        "### Model Training "
      ]
    },
    {
      "metadata": {
        "id": "ankKMRCHlNHm",
        "colab_type": "code",
        "colab": {
          "base_uri": "https://localhost:8080/",
          "height": 328
        },
        "outputId": "2847202a-92e3-4949-ca7a-ce94c66ca9f0"
      },
      "cell_type": "code",
      "source": [
        "model = tf.keras.Sequential([\n",
        "  tf.keras.layers.Dense(10, input_dim=4),\n",
        "  tf.keras.layers.Dense(3, activation='softmax'),\n",
        "])\n",
        "model.add(tf.keras.layers.BatchNormalization())\n",
        "model.summary()"
      ],
      "execution_count": 46,
      "outputs": [
        {
          "output_type": "stream",
          "text": [
            "WARNING:tensorflow:From /usr/local/lib/python3.6/dist-packages/tensorflow/python/ops/resource_variable_ops.py:642: colocate_with (from tensorflow.python.framework.ops) is deprecated and will be removed in a future version.\n",
            "Instructions for updating:\n",
            "Colocations handled automatically by placer.\n",
            "_________________________________________________________________\n",
            "Layer (type)                 Output Shape              Param #   \n",
            "=================================================================\n",
            "dense (Dense)                (None, 10)                50        \n",
            "_________________________________________________________________\n",
            "dense_1 (Dense)              (None, 3)                 33        \n",
            "_________________________________________________________________\n",
            "batch_normalization_v1 (Batc (None, 3)                 12        \n",
            "=================================================================\n",
            "Total params: 95\n",
            "Trainable params: 89\n",
            "Non-trainable params: 6\n",
            "_________________________________________________________________\n"
          ],
          "name": "stdout"
        }
      ]
    },
    {
      "metadata": {
        "id": "KXJaDkpxjFli",
        "colab_type": "code",
        "colab": {}
      },
      "cell_type": "code",
      "source": [
        "model.compile(loss='categorical_crossentropy',\n",
        "              optimizer='sgd',\n",
        "              metrics=['accuracy'])"
      ],
      "execution_count": 0,
      "outputs": []
    },
    {
      "metadata": {
        "colab_type": "code",
        "id": "4qLEdHPscihx",
        "colab": {
          "base_uri": "https://localhost:8080/",
          "height": 3765
        },
        "outputId": "fb9910ed-0e17-4038-ba8b-64cd9cb7d072"
      },
      "cell_type": "code",
      "source": [
        "model.fit(train_x, train_y.values, \n",
        "          validation_data=(test_x, test_y.values), \n",
        "          epochs=100,\n",
        "          batch_size=train_x.shape[0])"
      ],
      "execution_count": 48,
      "outputs": [
        {
          "output_type": "stream",
          "text": [
            "Train on 120 samples, validate on 30 samples\n",
            "WARNING:tensorflow:From /usr/local/lib/python3.6/dist-packages/tensorflow/python/ops/math_ops.py:3066: to_int32 (from tensorflow.python.ops.math_ops) is deprecated and will be removed in a future version.\n",
            "Instructions for updating:\n",
            "Use tf.cast instead.\n",
            "Epoch 1/100\n",
            "120/120 [==============================] - 0s 2ms/sample - loss: 6.4108 - acc: 0.0417 - val_loss: 1.3548 - val_acc: 0.4000\n",
            "Epoch 2/100\n",
            "120/120 [==============================] - 0s 84us/sample - loss: 6.4611 - acc: 0.0833 - val_loss: 4.5731 - val_acc: 0.4333\n",
            "Epoch 3/100\n",
            "120/120 [==============================] - 0s 73us/sample - loss: 7.0190 - acc: 0.4083 - val_loss: 4.8653 - val_acc: 0.4333\n",
            "Epoch 4/100\n",
            "120/120 [==============================] - 0s 69us/sample - loss: 6.7576 - acc: 0.4500 - val_loss: 4.6154 - val_acc: 0.4333\n",
            "Epoch 5/100\n",
            "120/120 [==============================] - 0s 77us/sample - loss: 6.3463 - acc: 0.5417 - val_loss: 4.6303 - val_acc: 0.4333\n",
            "Epoch 6/100\n",
            "120/120 [==============================] - 0s 71us/sample - loss: 6.1962 - acc: 0.5750 - val_loss: 4.6494 - val_acc: 0.4333\n",
            "Epoch 7/100\n",
            "120/120 [==============================] - 0s 71us/sample - loss: 6.3262 - acc: 0.5583 - val_loss: 4.6956 - val_acc: 0.4333\n",
            "Epoch 8/100\n",
            "120/120 [==============================] - 0s 77us/sample - loss: 5.7837 - acc: 0.5667 - val_loss: 4.7188 - val_acc: 0.4333\n",
            "Epoch 9/100\n",
            "120/120 [==============================] - 0s 67us/sample - loss: 5.7825 - acc: 0.5667 - val_loss: 4.7583 - val_acc: 0.4333\n",
            "Epoch 10/100\n",
            "120/120 [==============================] - 0s 70us/sample - loss: 5.1096 - acc: 0.5667 - val_loss: 4.7899 - val_acc: 0.4333\n",
            "Epoch 11/100\n",
            "120/120 [==============================] - 0s 72us/sample - loss: 5.1088 - acc: 0.5667 - val_loss: 4.8478 - val_acc: 0.4333\n",
            "Epoch 12/100\n",
            "120/120 [==============================] - 0s 79us/sample - loss: 4.9736 - acc: 0.5667 - val_loss: 4.9008 - val_acc: 0.4333\n",
            "Epoch 13/100\n",
            "120/120 [==============================] - 0s 81us/sample - loss: 4.4352 - acc: 0.5667 - val_loss: 4.9807 - val_acc: 0.4333\n",
            "Epoch 14/100\n",
            "120/120 [==============================] - 0s 77us/sample - loss: 4.0315 - acc: 0.5667 - val_loss: 5.3721 - val_acc: 0.4333\n",
            "Epoch 15/100\n",
            "120/120 [==============================] - 0s 72us/sample - loss: 2.9564 - acc: 0.5667 - val_loss: 5.4894 - val_acc: 0.4333\n",
            "Epoch 16/100\n",
            "120/120 [==============================] - 0s 92us/sample - loss: 2.9554 - acc: 0.5667 - val_loss: 5.9917 - val_acc: 0.4333\n",
            "Epoch 17/100\n",
            "120/120 [==============================] - 0s 71us/sample - loss: 3.4923 - acc: 0.5667 - val_loss: 5.9846 - val_acc: 0.4333\n",
            "Epoch 18/100\n",
            "120/120 [==============================] - 0s 70us/sample - loss: 3.4923 - acc: 0.5667 - val_loss: 5.9775 - val_acc: 0.4333\n",
            "Epoch 19/100\n",
            "120/120 [==============================] - 0s 78us/sample - loss: 3.4923 - acc: 0.5667 - val_loss: 5.9705 - val_acc: 0.4333\n",
            "Epoch 20/100\n",
            "120/120 [==============================] - 0s 83us/sample - loss: 3.4923 - acc: 0.5667 - val_loss: 5.9637 - val_acc: 0.4333\n",
            "Epoch 21/100\n",
            "120/120 [==============================] - 0s 110us/sample - loss: 3.4923 - acc: 0.5667 - val_loss: 5.9569 - val_acc: 0.4333\n",
            "Epoch 22/100\n",
            "120/120 [==============================] - 0s 92us/sample - loss: 3.4923 - acc: 0.5667 - val_loss: 5.9502 - val_acc: 0.4333\n",
            "Epoch 23/100\n",
            "120/120 [==============================] - 0s 120us/sample - loss: 3.4923 - acc: 0.5667 - val_loss: 5.9435 - val_acc: 0.4333\n",
            "Epoch 24/100\n",
            "120/120 [==============================] - 0s 103us/sample - loss: 3.4923 - acc: 0.5667 - val_loss: 5.9370 - val_acc: 0.4333\n",
            "Epoch 25/100\n",
            "120/120 [==============================] - 0s 134us/sample - loss: 3.4923 - acc: 0.5667 - val_loss: 5.9305 - val_acc: 0.4333\n",
            "Epoch 26/100\n",
            "120/120 [==============================] - 0s 132us/sample - loss: 3.4923 - acc: 0.5667 - val_loss: 5.9241 - val_acc: 0.4333\n",
            "Epoch 27/100\n",
            "120/120 [==============================] - 0s 90us/sample - loss: 3.4923 - acc: 0.5667 - val_loss: 5.9177 - val_acc: 0.4333\n",
            "Epoch 28/100\n",
            "120/120 [==============================] - 0s 117us/sample - loss: 3.4923 - acc: 0.5667 - val_loss: 5.9114 - val_acc: 0.4333\n",
            "Epoch 29/100\n",
            "120/120 [==============================] - 0s 89us/sample - loss: 3.4923 - acc: 0.5667 - val_loss: 5.9052 - val_acc: 0.4333\n",
            "Epoch 30/100\n",
            "120/120 [==============================] - 0s 79us/sample - loss: 3.4923 - acc: 0.5667 - val_loss: 5.8990 - val_acc: 0.4333\n",
            "Epoch 31/100\n",
            "120/120 [==============================] - 0s 99us/sample - loss: 3.4923 - acc: 0.5667 - val_loss: 5.8929 - val_acc: 0.4333\n",
            "Epoch 32/100\n",
            "120/120 [==============================] - 0s 98us/sample - loss: 3.4923 - acc: 0.5667 - val_loss: 5.8868 - val_acc: 0.4333\n",
            "Epoch 33/100\n",
            "120/120 [==============================] - 0s 68us/sample - loss: 3.4923 - acc: 0.5667 - val_loss: 5.8808 - val_acc: 0.4333\n",
            "Epoch 34/100\n",
            "120/120 [==============================] - 0s 121us/sample - loss: 3.4923 - acc: 0.5667 - val_loss: 5.8748 - val_acc: 0.4333\n",
            "Epoch 35/100\n",
            "120/120 [==============================] - 0s 101us/sample - loss: 3.4923 - acc: 0.5667 - val_loss: 5.8689 - val_acc: 0.4333\n",
            "Epoch 36/100\n",
            "120/120 [==============================] - 0s 72us/sample - loss: 3.4923 - acc: 0.5667 - val_loss: 5.8630 - val_acc: 0.4333\n",
            "Epoch 37/100\n",
            "120/120 [==============================] - 0s 101us/sample - loss: 3.4923 - acc: 0.5667 - val_loss: 5.8572 - val_acc: 0.4333\n",
            "Epoch 38/100\n",
            "120/120 [==============================] - 0s 104us/sample - loss: 3.4923 - acc: 0.5667 - val_loss: 5.8514 - val_acc: 0.4333\n",
            "Epoch 39/100\n",
            "120/120 [==============================] - 0s 73us/sample - loss: 3.4923 - acc: 0.5667 - val_loss: 5.8456 - val_acc: 0.4333\n",
            "Epoch 40/100\n",
            "120/120 [==============================] - 0s 94us/sample - loss: 3.4923 - acc: 0.5667 - val_loss: 5.8399 - val_acc: 0.4333\n",
            "Epoch 41/100\n",
            "120/120 [==============================] - 0s 101us/sample - loss: 3.4923 - acc: 0.5667 - val_loss: 5.8342 - val_acc: 0.4333\n",
            "Epoch 42/100\n",
            "120/120 [==============================] - 0s 94us/sample - loss: 3.4923 - acc: 0.5667 - val_loss: 5.8285 - val_acc: 0.4333\n",
            "Epoch 43/100\n",
            "120/120 [==============================] - 0s 104us/sample - loss: 3.4923 - acc: 0.5667 - val_loss: 5.8229 - val_acc: 0.4333\n",
            "Epoch 44/100\n",
            "120/120 [==============================] - 0s 112us/sample - loss: 3.4923 - acc: 0.5667 - val_loss: 5.8173 - val_acc: 0.4333\n",
            "Epoch 45/100\n",
            "120/120 [==============================] - 0s 107us/sample - loss: 3.4923 - acc: 0.5667 - val_loss: 5.8118 - val_acc: 0.4333\n",
            "Epoch 46/100\n",
            "120/120 [==============================] - 0s 83us/sample - loss: 3.4923 - acc: 0.5667 - val_loss: 5.8063 - val_acc: 0.4333\n",
            "Epoch 47/100\n",
            "120/120 [==============================] - 0s 93us/sample - loss: 3.4923 - acc: 0.5667 - val_loss: 5.8008 - val_acc: 0.4333\n",
            "Epoch 48/100\n",
            "120/120 [==============================] - 0s 96us/sample - loss: 3.4923 - acc: 0.5667 - val_loss: 5.7953 - val_acc: 0.4333\n",
            "Epoch 49/100\n",
            "120/120 [==============================] - 0s 87us/sample - loss: 3.4923 - acc: 0.5667 - val_loss: 5.7899 - val_acc: 0.4333\n",
            "Epoch 50/100\n",
            "120/120 [==============================] - 0s 112us/sample - loss: 3.4923 - acc: 0.5667 - val_loss: 5.7845 - val_acc: 0.4333\n",
            "Epoch 51/100\n",
            "120/120 [==============================] - 0s 95us/sample - loss: 3.4923 - acc: 0.5667 - val_loss: 5.7791 - val_acc: 0.4333\n",
            "Epoch 52/100\n",
            "120/120 [==============================] - 0s 90us/sample - loss: 3.4923 - acc: 0.5667 - val_loss: 5.7738 - val_acc: 0.4333\n",
            "Epoch 53/100\n",
            "120/120 [==============================] - 0s 96us/sample - loss: 3.4923 - acc: 0.5667 - val_loss: 5.7685 - val_acc: 0.4333\n",
            "Epoch 54/100\n",
            "120/120 [==============================] - 0s 102us/sample - loss: 3.4923 - acc: 0.5667 - val_loss: 5.7632 - val_acc: 0.4333\n",
            "Epoch 55/100\n",
            "120/120 [==============================] - 0s 113us/sample - loss: 3.4923 - acc: 0.5667 - val_loss: 5.7579 - val_acc: 0.4333\n",
            "Epoch 56/100\n",
            "120/120 [==============================] - 0s 87us/sample - loss: 3.4923 - acc: 0.5667 - val_loss: 5.7527 - val_acc: 0.4333\n",
            "Epoch 57/100\n",
            "120/120 [==============================] - 0s 93us/sample - loss: 3.4923 - acc: 0.5667 - val_loss: 5.7475 - val_acc: 0.4333\n",
            "Epoch 58/100\n",
            "120/120 [==============================] - 0s 80us/sample - loss: 3.4923 - acc: 0.5667 - val_loss: 5.7423 - val_acc: 0.4333\n",
            "Epoch 59/100\n",
            "120/120 [==============================] - 0s 111us/sample - loss: 3.4923 - acc: 0.5667 - val_loss: 5.7371 - val_acc: 0.4333\n",
            "Epoch 60/100\n",
            "120/120 [==============================] - 0s 88us/sample - loss: 3.4923 - acc: 0.5667 - val_loss: 5.7320 - val_acc: 0.4333\n",
            "Epoch 61/100\n",
            "120/120 [==============================] - 0s 136us/sample - loss: 3.4923 - acc: 0.5667 - val_loss: 5.7268 - val_acc: 0.4333\n",
            "Epoch 62/100\n",
            "120/120 [==============================] - 0s 124us/sample - loss: 3.4923 - acc: 0.5667 - val_loss: 5.7217 - val_acc: 0.4333\n",
            "Epoch 63/100\n",
            "120/120 [==============================] - 0s 84us/sample - loss: 3.4923 - acc: 0.5667 - val_loss: 5.7167 - val_acc: 0.4333\n",
            "Epoch 64/100\n",
            "120/120 [==============================] - 0s 103us/sample - loss: 3.4923 - acc: 0.5667 - val_loss: 5.7116 - val_acc: 0.4333\n",
            "Epoch 65/100\n",
            "120/120 [==============================] - 0s 84us/sample - loss: 3.4923 - acc: 0.5667 - val_loss: 5.7066 - val_acc: 0.4333\n",
            "Epoch 66/100\n",
            "120/120 [==============================] - 0s 107us/sample - loss: 3.4923 - acc: 0.5667 - val_loss: 5.7015 - val_acc: 0.4333\n",
            "Epoch 67/100\n",
            "120/120 [==============================] - 0s 102us/sample - loss: 3.4923 - acc: 0.5667 - val_loss: 5.6965 - val_acc: 0.4333\n",
            "Epoch 68/100\n",
            "120/120 [==============================] - 0s 120us/sample - loss: 3.4923 - acc: 0.5667 - val_loss: 5.6915 - val_acc: 0.4333\n",
            "Epoch 69/100\n",
            "120/120 [==============================] - 0s 65us/sample - loss: 3.4923 - acc: 0.5667 - val_loss: 5.6866 - val_acc: 0.4333\n",
            "Epoch 70/100\n",
            "120/120 [==============================] - 0s 82us/sample - loss: 3.4923 - acc: 0.5667 - val_loss: 5.6816 - val_acc: 0.4333\n",
            "Epoch 71/100\n",
            "120/120 [==============================] - 0s 101us/sample - loss: 3.4923 - acc: 0.5667 - val_loss: 5.6767 - val_acc: 0.4333\n",
            "Epoch 72/100\n",
            "120/120 [==============================] - 0s 132us/sample - loss: 3.4923 - acc: 0.5667 - val_loss: 5.6718 - val_acc: 0.4333\n",
            "Epoch 73/100\n",
            "120/120 [==============================] - 0s 61us/sample - loss: 3.4923 - acc: 0.5667 - val_loss: 5.6669 - val_acc: 0.4333\n",
            "Epoch 74/100\n",
            "120/120 [==============================] - 0s 93us/sample - loss: 3.4923 - acc: 0.5667 - val_loss: 5.5083 - val_acc: 0.4333\n",
            "Epoch 75/100\n",
            "120/120 [==============================] - 0s 93us/sample - loss: 3.4923 - acc: 0.5667 - val_loss: 5.4481 - val_acc: 0.4333\n",
            "Epoch 76/100\n",
            "120/120 [==============================] - 0s 85us/sample - loss: 3.4923 - acc: 0.5667 - val_loss: 5.4231 - val_acc: 0.4333\n",
            "Epoch 77/100\n",
            "120/120 [==============================] - 0s 92us/sample - loss: 3.4923 - acc: 0.5667 - val_loss: 5.4055 - val_acc: 0.4333\n",
            "Epoch 78/100\n",
            "120/120 [==============================] - 0s 72us/sample - loss: 3.4923 - acc: 0.5667 - val_loss: 5.3913 - val_acc: 0.4333\n",
            "Epoch 79/100\n",
            "120/120 [==============================] - 0s 72us/sample - loss: 3.4923 - acc: 0.5667 - val_loss: 5.3791 - val_acc: 0.4333\n",
            "Epoch 80/100\n",
            "120/120 [==============================] - 0s 138us/sample - loss: 3.4923 - acc: 0.5667 - val_loss: 5.3681 - val_acc: 0.4333\n",
            "Epoch 81/100\n",
            "120/120 [==============================] - 0s 80us/sample - loss: 3.4923 - acc: 0.5667 - val_loss: 5.3579 - val_acc: 0.4333\n",
            "Epoch 82/100\n",
            "120/120 [==============================] - 0s 102us/sample - loss: 3.4923 - acc: 0.5667 - val_loss: 5.3485 - val_acc: 0.4333\n",
            "Epoch 83/100\n",
            "120/120 [==============================] - 0s 78us/sample - loss: 3.4923 - acc: 0.5667 - val_loss: 5.3395 - val_acc: 0.4333\n",
            "Epoch 84/100\n",
            "120/120 [==============================] - 0s 85us/sample - loss: 3.4923 - acc: 0.5667 - val_loss: 5.3310 - val_acc: 0.4333\n",
            "Epoch 85/100\n",
            "120/120 [==============================] - 0s 79us/sample - loss: 3.4923 - acc: 0.5667 - val_loss: 5.3228 - val_acc: 0.4333\n",
            "Epoch 86/100\n",
            "120/120 [==============================] - 0s 246us/sample - loss: 3.4923 - acc: 0.5667 - val_loss: 5.3149 - val_acc: 0.4333\n",
            "Epoch 87/100\n",
            "120/120 [==============================] - 0s 100us/sample - loss: 3.4923 - acc: 0.5667 - val_loss: 5.3072 - val_acc: 0.4333\n",
            "Epoch 88/100\n",
            "120/120 [==============================] - 0s 106us/sample - loss: 3.4923 - acc: 0.5667 - val_loss: 5.2997 - val_acc: 0.4333\n",
            "Epoch 89/100\n",
            "120/120 [==============================] - 0s 163us/sample - loss: 3.4923 - acc: 0.5667 - val_loss: 5.2924 - val_acc: 0.4333\n",
            "Epoch 90/100\n",
            "120/120 [==============================] - 0s 159us/sample - loss: 3.4923 - acc: 0.5667 - val_loss: 5.2852 - val_acc: 0.4333\n",
            "Epoch 91/100\n",
            "120/120 [==============================] - 0s 78us/sample - loss: 3.4923 - acc: 0.5667 - val_loss: 5.2782 - val_acc: 0.4333\n",
            "Epoch 92/100\n",
            "120/120 [==============================] - 0s 106us/sample - loss: 3.4923 - acc: 0.5667 - val_loss: 5.2714 - val_acc: 0.4333\n",
            "Epoch 93/100\n",
            "120/120 [==============================] - 0s 69us/sample - loss: 3.4923 - acc: 0.5667 - val_loss: 5.2646 - val_acc: 0.4333\n",
            "Epoch 94/100\n",
            "120/120 [==============================] - 0s 127us/sample - loss: 3.4923 - acc: 0.5667 - val_loss: 5.2579 - val_acc: 0.4333\n",
            "Epoch 95/100\n",
            "120/120 [==============================] - 0s 102us/sample - loss: 3.4923 - acc: 0.5667 - val_loss: 5.2514 - val_acc: 0.4333\n",
            "Epoch 96/100\n",
            "120/120 [==============================] - 0s 98us/sample - loss: 3.4923 - acc: 0.5667 - val_loss: 5.2449 - val_acc: 0.4333\n",
            "Epoch 97/100\n",
            "120/120 [==============================] - 0s 100us/sample - loss: 3.4923 - acc: 0.5667 - val_loss: 5.2385 - val_acc: 0.4333\n",
            "Epoch 98/100\n",
            "120/120 [==============================] - 0s 92us/sample - loss: 3.4923 - acc: 0.5667 - val_loss: 5.2322 - val_acc: 0.4333\n",
            "Epoch 99/100\n",
            "120/120 [==============================] - 0s 94us/sample - loss: 3.4923 - acc: 0.5667 - val_loss: 5.2259 - val_acc: 0.4333\n",
            "Epoch 100/100\n",
            "120/120 [==============================] - 0s 108us/sample - loss: 3.4923 - acc: 0.5667 - val_loss: 5.2198 - val_acc: 0.4333\n"
          ],
          "name": "stdout"
        },
        {
          "output_type": "execute_result",
          "data": {
            "text/plain": [
              "<tensorflow.python.keras.callbacks.History at 0x7fa0a8839f98>"
            ]
          },
          "metadata": {
            "tags": []
          },
          "execution_count": 48
        }
      ]
    },
    {
      "metadata": {
        "colab_type": "text",
        "id": "y-SgSSdRcih5"
      },
      "cell_type": "markdown",
      "source": [
        "### Model Prediction"
      ]
    },
    {
      "metadata": {
        "id": "9l-6d5nMwMlw",
        "colab_type": "code",
        "colab": {}
      },
      "cell_type": "code",
      "source": [
        "prediction = model.predict_classes(test_x[0:1])"
      ],
      "execution_count": 0,
      "outputs": []
    },
    {
      "metadata": {
        "id": "ZhPD-tSqwciK",
        "colab_type": "code",
        "colab": {
          "base_uri": "https://localhost:8080/",
          "height": 35
        },
        "outputId": "b62c7e5f-a7a7-4e45-b737-57d8347f9249"
      },
      "cell_type": "code",
      "source": [
        "prediction"
      ],
      "execution_count": 50,
      "outputs": [
        {
          "output_type": "execute_result",
          "data": {
            "text/plain": [
              "array([1])"
            ]
          },
          "metadata": {
            "tags": []
          },
          "execution_count": 50
        }
      ]
    },
    {
      "metadata": {
        "id": "Rrvmpvybu4zF",
        "colab_type": "code",
        "colab": {}
      },
      "cell_type": "code",
      "source": [
        "species = np.array(['Setosa', 'Versicolor', 'Virginica'])"
      ],
      "execution_count": 0,
      "outputs": []
    },
    {
      "metadata": {
        "colab_type": "code",
        "id": "GBgKZkhkcih6",
        "colab": {
          "base_uri": "https://localhost:8080/",
          "height": 35
        },
        "outputId": "c33382d1-a151-4010-9eec-8e06175fe89a"
      },
      "cell_type": "code",
      "source": [
        "print(\"This species should be\",species[prediction])"
      ],
      "execution_count": 52,
      "outputs": [
        {
          "output_type": "stream",
          "text": [
            "This species should be ['Versicolor']\n"
          ],
          "name": "stdout"
        }
      ]
    },
    {
      "metadata": {
        "colab_type": "text",
        "id": "P32ASP1Vjt0a"
      },
      "cell_type": "markdown",
      "source": [
        "### Save the Model"
      ]
    },
    {
      "metadata": {
        "id": "9ENFXLMWv5f3",
        "colab_type": "code",
        "colab": {}
      },
      "cell_type": "code",
      "source": [
        "model.save_weights('iris_weights.h5')"
      ],
      "execution_count": 0,
      "outputs": []
    },
    {
      "metadata": {
        "colab_type": "code",
        "id": "n8rd0jjAjyTR",
        "colab": {}
      },
      "cell_type": "code",
      "source": [
        "model.save('iris.h5')"
      ],
      "execution_count": 0,
      "outputs": []
    },
    {
      "metadata": {
        "colab_type": "text",
        "id": "XiipRpe7rbVh"
      },
      "cell_type": "markdown",
      "source": [
        "### Build and Train a Deep Neural network with 2 hidden layer  - Optional - For Practice\n",
        "\n",
        "Does it perform better than Linear Classifier? What could be the reason for difference in performance?"
      ]
    },
    {
      "metadata": {
        "colab_type": "code",
        "id": "v5Du3lubr4sA",
        "colab": {}
      },
      "cell_type": "code",
      "source": [
        ""
      ],
      "execution_count": 0,
      "outputs": []
    }
  ]
}